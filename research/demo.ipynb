{
 "cells": [
  {
   "cell_type": "code",
   "execution_count": 1,
   "metadata": {},
   "outputs": [],
   "source": [
    "import torch"
   ]
  },
  {
   "cell_type": "code",
   "execution_count": 2,
   "metadata": {},
   "outputs": [],
   "source": [
    "def precompute_freqs_cis(dim: int, end: int, theta: float = 10000.0):\n",
    "    \"\"\"\n",
    "    Precompute the frequency tensor for complex exponentials (cis) with given dimensions.\n",
    "\n",
    "    This function calculates a frequency tensor with complex exponentials using the given dimension 'dim'\n",
    "    and the end index 'end'. The 'theta' parameter scales the frequencies.\n",
    "    The returned tensor contains complex values in complex64 data type.\n",
    "\n",
    "    Args:\n",
    "        dim (int): Dimension of the frequency tensor.\n",
    "        end (int): End index for precomputing frequencies.\n",
    "        theta (float, optional): Scaling factor for frequency computation. Defaults to 10000.0.\n",
    "\n",
    "    Returns:\n",
    "        torch.Tensor: Precomputed frequency tensor with complex exponential.\n",
    "    \"\"\"\n",
    "    freqs = 1.0 / (theta ** (torch.arange(0, dim, 2)[: (dim // 2)].float() / dim))\n",
    "    t = torch.arange(end, device=freqs.device)\n",
    "    freqs = torch.outer(t, freqs).float()\n",
    "\n",
    "    cos, sin = freqs.cos(), freqs.sin()\n",
    "\n",
    "    return torch.stack((cos, -sin, sin, cos), dim=-1).view(*freqs.size(), 2, 2)\n"
   ]
  },
  {
   "cell_type": "code",
   "execution_count": 3,
   "metadata": {},
   "outputs": [],
   "source": [
    "freq_tensor = precompute_freqs_cis(2, 10)"
   ]
  },
  {
   "cell_type": "code",
   "execution_count": 4,
   "metadata": {},
   "outputs": [
    {
     "data": {
      "text/plain": [
       "tensor([[[[ 1.0000, -0.0000],\n",
       "          [ 0.0000,  1.0000]]],\n",
       "\n",
       "\n",
       "        [[[ 0.5403, -0.8415],\n",
       "          [ 0.8415,  0.5403]]],\n",
       "\n",
       "\n",
       "        [[[-0.4161, -0.9093],\n",
       "          [ 0.9093, -0.4161]]],\n",
       "\n",
       "\n",
       "        [[[-0.9900, -0.1411],\n",
       "          [ 0.1411, -0.9900]]],\n",
       "\n",
       "\n",
       "        [[[-0.6536,  0.7568],\n",
       "          [-0.7568, -0.6536]]],\n",
       "\n",
       "\n",
       "        [[[ 0.2837,  0.9589],\n",
       "          [-0.9589,  0.2837]]],\n",
       "\n",
       "\n",
       "        [[[ 0.9602,  0.2794],\n",
       "          [-0.2794,  0.9602]]],\n",
       "\n",
       "\n",
       "        [[[ 0.7539, -0.6570],\n",
       "          [ 0.6570,  0.7539]]],\n",
       "\n",
       "\n",
       "        [[[-0.1455, -0.9894],\n",
       "          [ 0.9894, -0.1455]]],\n",
       "\n",
       "\n",
       "        [[[-0.9111, -0.4121],\n",
       "          [ 0.4121, -0.9111]]]])"
      ]
     },
     "execution_count": 4,
     "metadata": {},
     "output_type": "execute_result"
    }
   ],
   "source": [
    "freq_tensor"
   ]
  }
 ],
 "metadata": {
  "kernelspec": {
   "display_name": "venv",
   "language": "python",
   "name": "python3"
  },
  "language_info": {
   "codemirror_mode": {
    "name": "ipython",
    "version": 3
   },
   "file_extension": ".py",
   "mimetype": "text/x-python",
   "name": "python",
   "nbconvert_exporter": "python",
   "pygments_lexer": "ipython3",
   "version": "3.10.16"
  }
 },
 "nbformat": 4,
 "nbformat_minor": 2
}
